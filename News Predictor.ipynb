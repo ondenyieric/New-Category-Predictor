{
 "cells": [
  {
   "cell_type": "code",
   "execution_count": 44,
   "metadata": {
    "collapsed": false,
    "deletable": true,
    "editable": true
   },
   "outputs": [],
   "source": [
    "import pandas as pd\n",
    "#import lxml\n",
    "import requests\n",
    "from lxml import etree\n",
    "from sklearn.feature_extraction.text import CountVectorizer\n",
    "from sklearn.naive_bayes import MultinomialNB\n",
    "from sklearn.model_selection import train_test_split"
   ]
  },
  {
   "cell_type": "code",
   "execution_count": 56,
   "metadata": {
    "collapsed": false,
    "deletable": true,
    "editable": true
   },
   "outputs": [],
   "source": [
    "url_list = [\"http://feeds.reuters.com/reuters/businessNews\",\n",
    "            \"http://feeds.reuters.com/reuters/technologyNews\",\n",
    "            \"http://feeds.reuters.com/reuters/sportsNews\",\n",
    "            ]\n",
    "documents = []\n",
    "\n",
    "for url in url_list:\n",
    "    response = requests.get(url)\n",
    "    xml_page = response.text\n",
    "    parser = etree.XMLParser(recover=True, encoding='utf-8')\n",
    "    documents.append(lxml.etree.fromstring(xml_page.encode(\"utf-8\"), parser=parser))\n"
   ]
  },
  {
   "cell_type": "code",
   "execution_count": 57,
   "metadata": {
    "collapsed": false,
    "deletable": true,
    "editable": true
   },
   "outputs": [
    {
     "data": {
      "text/plain": [
       "<Element rss at 0x7f1b8f68d0e0>"
      ]
     },
     "execution_count": 57,
     "metadata": {},
     "output_type": "execute_result"
    }
   ],
   "source": [
    "documents[0]"
   ]
  },
  {
   "cell_type": "code",
   "execution_count": 58,
   "metadata": {
    "collapsed": true,
    "deletable": true,
    "editable": true
   },
   "outputs": [],
   "source": [
    "def print_tag(node):\n",
    "    print \"<%s %s>%s\" % (node.tag, \" \".join([\"%s=%s\" % (k,v)for k,v in node.attrib.iteritems()]), node.text)\n",
    "    for item in node[:25]:\n",
    "        print \"  <%s %s>%s</%s>\" % (item.tag, \" \".join([\"%s=%s\" % (k,v)for k,v in item.attrib.iteritems()]), item.text, item.tag)\n",
    "    print \"</%s>\" % node.tag"
   ]
  },
  {
   "cell_type": "code",
   "execution_count": 59,
   "metadata": {
    "collapsed": false,
    "deletable": true,
    "editable": true
   },
   "outputs": [
    {
     "name": "stdout",
     "output_type": "stream",
     "text": [
      "<rss version=2.0>\n",
      "\n",
      "  <channel >\n",
      "</channel>\n",
      "</rss>\n"
     ]
    }
   ],
   "source": [
    "temp_node = documents[0]\n",
    "print_tag(temp_node)"
   ]
  },
  {
   "cell_type": "code",
   "execution_count": 27,
   "metadata": {
    "collapsed": false,
    "deletable": true,
    "editable": true
   },
   "outputs": [
    {
     "name": "stdout",
     "output_type": "stream",
     "text": [
      "<channel >\n",
      "\n",
      "  <title >Reuters: Business News</title>\n",
      "  <link >http://www.reuters.com</link>\n",
      "  <description >Reuters.com is your source for breaking news, business, financial and investing news, including personal finance and stocks.  Reuters is the leading global provider of news, financial information and technology solutions to the world's media, financial institutions, businesses and individuals.</description>\n",
      "  <image >\n",
      "\t</image>\n",
      "  <language >en-us</language>\n",
      "  <lastBuildDate >Sat, 17 Jun 2017 11:22:38 -0400</lastBuildDate>\n",
      "  <copyright >All rights reserved. Users may download and print extracts of content from this website for their own personal and non-commercial use only. Republication or redistribution of Reuters content, including by framing or similar means, is expressly prohibited without the prior written consent of Reuters. Reuters and the Reuters sphere logo are registered trademarks or trademarks of the Reuters group of companies around the world. © Reuters 2017</copyright>\n",
      "  <{http://www.w3.org/2005/Atom}link rel=self type=application/rss+xml href=http://feeds.reuters.com/reuters/businessNews>None</{http://www.w3.org/2005/Atom}link>\n",
      "  <{http://rssnamespace.org/feedburner/ext/1.0}info uri=reuters/businessnews>None</{http://rssnamespace.org/feedburner/ext/1.0}info>\n",
      "  <{http://www.w3.org/2005/Atom}link rel=hub href=http://pubsubhubbub.appspot.com/>None</{http://www.w3.org/2005/Atom}link>\n",
      "  <{http://rssnamespace.org/feedburner/ext/1.0}feedFlare href=https://add.my.yahoo.com/rss?url=http%3A%2F%2Ffeeds.reuters.com%2Freuters%2FbusinessNews src=http://us.i1.yimg.com/us.yimg.com/i/us/my/addtomyyahoo4.gif>Subscribe with My Yahoo!</{http://rssnamespace.org/feedburner/ext/1.0}feedFlare>\n",
      "  <{http://rssnamespace.org/feedburner/ext/1.0}feedFlare href=http://www.newsgator.com/ngs/subscriber/subext.aspx?url=http%3A%2F%2Ffeeds.reuters.com%2Freuters%2FbusinessNews src=http://www.newsgator.com/images/ngsub1.gif>Subscribe with NewsGator</{http://rssnamespace.org/feedburner/ext/1.0}feedFlare>\n",
      "  <{http://rssnamespace.org/feedburner/ext/1.0}feedFlare href=http://feeds.my.aol.com/add.jsp?url=http%3A%2F%2Ffeeds.reuters.com%2Freuters%2FbusinessNews src=http://o.aolcdn.com/favorites.my.aol.com/webmaster/ffclient/webroot/locale/en-US/images/myAOLButtonSmall.gif>Subscribe with My AOL</{http://rssnamespace.org/feedburner/ext/1.0}feedFlare>\n",
      "  <{http://rssnamespace.org/feedburner/ext/1.0}feedFlare href=http://www.bloglines.com/sub/http://feeds.reuters.com/reuters/businessNews src=http://www.bloglines.com/images/sub_modern11.gif>Subscribe with Bloglines</{http://rssnamespace.org/feedburner/ext/1.0}feedFlare>\n",
      "  <{http://rssnamespace.org/feedburner/ext/1.0}feedFlare href=http://www.netvibes.com/subscribe.php?url=http%3A%2F%2Ffeeds.reuters.com%2Freuters%2FbusinessNews src=//www.netvibes.com/img/add2netvibes.gif>Subscribe with Netvibes</{http://rssnamespace.org/feedburner/ext/1.0}feedFlare>\n",
      "  <{http://rssnamespace.org/feedburner/ext/1.0}feedFlare href=http://fusion.google.com/add?feedurl=http%3A%2F%2Ffeeds.reuters.com%2Freuters%2FbusinessNews src=http://buttons.googlesyndication.com/fusion/add.gif>Subscribe with Google</{http://rssnamespace.org/feedburner/ext/1.0}feedFlare>\n",
      "  <{http://rssnamespace.org/feedburner/ext/1.0}feedFlare href=http://www.pageflakes.com/subscribe.aspx?url=http%3A%2F%2Ffeeds.reuters.com%2Freuters%2FbusinessNews src=http://www.pageflakes.com/ImageFile.ashx?instanceId=Static_4&fileName=ATP_blu_91x17.gif>Subscribe with Pageflakes</{http://rssnamespace.org/feedburner/ext/1.0}feedFlare>\n",
      "  <item >\n",
      "\t\t</item>\n",
      "  <item >\n",
      "\t\t</item>\n",
      "  <item >\n",
      "\t\t</item>\n",
      "  <item >\n",
      "\t\t</item>\n",
      "  <item >\n",
      "\t\t</item>\n",
      "  <item >\n",
      "\t\t</item>\n",
      "  <item >\n",
      "\t\t</item>\n",
      "  <item >\n",
      "\t\t</item>\n",
      "</channel>\n"
     ]
    }
   ],
   "source": [
    "temp_node = temp_node[0]\n",
    "print_tag(temp_node)"
   ]
  },
  {
   "cell_type": "code",
   "execution_count": 60,
   "metadata": {
    "collapsed": false,
    "deletable": true,
    "editable": true
   },
   "outputs": [
    {
     "ename": "IndexError",
     "evalue": "list index out of range",
     "output_type": "error",
     "traceback": [
      "\u001b[0;31m---------------------------------------------------------------------------\u001b[0m",
      "\u001b[0;31mIndexError\u001b[0m                                Traceback (most recent call last)",
      "\u001b[0;32m<ipython-input-60-1bc53ff00b83>\u001b[0m in \u001b[0;36m<module>\u001b[0;34m()\u001b[0m\n\u001b[0;32m----> 1\u001b[0;31m \u001b[0mtemp_node\u001b[0m \u001b[0;34m=\u001b[0m \u001b[0mtemp_node\u001b[0m\u001b[0;34m.\u001b[0m\u001b[0mxpath\u001b[0m\u001b[0;34m(\u001b[0m\u001b[0;34m\"item\"\u001b[0m\u001b[0;34m)\u001b[0m\u001b[0;34m[\u001b[0m\u001b[0;36m0\u001b[0m\u001b[0;34m]\u001b[0m\u001b[0;34m\u001b[0m\u001b[0m\n\u001b[0m\u001b[1;32m      2\u001b[0m \u001b[0mprint_tag\u001b[0m\u001b[0;34m(\u001b[0m\u001b[0mtemp_node\u001b[0m\u001b[0;34m)\u001b[0m\u001b[0;34m\u001b[0m\u001b[0m\n",
      "\u001b[0;31mIndexError\u001b[0m: list index out of range"
     ]
    }
   ],
   "source": [
    "temp_node = temp_node.xpath(\"item\")[0]\n",
    "print_tag(temp_node)"
   ]
  },
  {
   "cell_type": "code",
   "execution_count": 31,
   "metadata": {
    "collapsed": false,
    "deletable": true,
    "editable": true,
    "scrolled": true
   },
   "outputs": [
    {
     "name": "stdout",
     "output_type": "stream",
     "text": [
      "30\n"
     ]
    },
    {
     "data": {
      "text/html": [
       "<div>\n",
       "<table border=\"1\" class=\"dataframe\">\n",
       "  <thead>\n",
       "    <tr style=\"text-align: right;\">\n",
       "      <th></th>\n",
       "      <th>title</th>\n",
       "      <th>description</th>\n",
       "      <th>category</th>\n",
       "    </tr>\n",
       "  </thead>\n",
       "  <tbody>\n",
       "    <tr>\n",
       "      <th>0</th>\n",
       "      <td>Amazon to buy Whole Foods for $13.7 billion, w...</td>\n",
       "      <td>(Reuters) - Amazon.com Inc said on Friday it w...</td>\n",
       "      <td>businessNews</td>\n",
       "    </tr>\n",
       "    <tr>\n",
       "      <th>1</th>\n",
       "      <td>Tech to see bump in growth weighting in Russel...</td>\n",
       "      <td>NEW YORK (Reuters) - The largecap technology s...</td>\n",
       "      <td>businessNews</td>\n",
       "    </tr>\n",
       "    <tr>\n",
       "      <th>2</th>\n",
       "      <td>Weak inflation erodes conviction at Fed on rat...</td>\n",
       "      <td>DALLAS/WASHINGTON (Reuters) - When the Federal...</td>\n",
       "      <td>businessNews</td>\n",
       "    </tr>\n",
       "    <tr>\n",
       "      <th>3</th>\n",
       "      <td>Yellen says Fed to give banks more details on ...</td>\n",
       "      <td>NEW YORK and WASHINGTON (Reuters) - The Federa...</td>\n",
       "      <td>businessNews</td>\n",
       "    </tr>\n",
       "    <tr>\n",
       "      <th>4</th>\n",
       "      <td>Hedge fund called 'greedy bastards' by Whole F...</td>\n",
       "      <td>(Editor's Note: please be advised that headlin...</td>\n",
       "      <td>businessNews</td>\n",
       "    </tr>\n",
       "    <tr>\n",
       "      <th>5</th>\n",
       "      <td>Takata would stop making air-bag inflators und...</td>\n",
       "      <td>TOKYO (Reuters) - Japan's Takata Corp , facing...</td>\n",
       "      <td>businessNews</td>\n",
       "    </tr>\n",
       "    <tr>\n",
       "      <th>6</th>\n",
       "      <td>GM to open manufacturing facility in Arlington...</td>\n",
       "      <td>(Reuters) - U.S. automaker General Motors Co  ...</td>\n",
       "      <td>businessNews</td>\n",
       "    </tr>\n",
       "    <tr>\n",
       "      <th>7</th>\n",
       "      <td>China's CALC joins line-up for Boeing 737 MAX ...</td>\n",
       "      <td>PARIS (Reuters) - China Aircraft Leasing Group...</td>\n",
       "      <td>businessNews</td>\n",
       "    </tr>\n",
       "    <tr>\n",
       "      <th>8</th>\n",
       "      <td>McDonald's ends Olympics sponsorship deal early</td>\n",
       "      <td>NEW YORK/BERLIN (Reuters) - McDonald's Corp  e...</td>\n",
       "      <td>businessNews</td>\n",
       "    </tr>\n",
       "    <tr>\n",
       "      <th>9</th>\n",
       "      <td>Iran sees gas deal with Total within weeks: mi...</td>\n",
       "      <td>DUBAI (Reuters) - Iran expects to sign a long-...</td>\n",
       "      <td>businessNews</td>\n",
       "    </tr>\n",
       "    <tr>\n",
       "      <th>10</th>\n",
       "      <td>Amazon to buy Whole Foods for $13.7 billion, w...</td>\n",
       "      <td>(Reuters) - Amazon.com Inc said on Friday it w...</td>\n",
       "      <td>technologyNews</td>\n",
       "    </tr>\n",
       "    <tr>\n",
       "      <th>11</th>\n",
       "      <td>Apple poaches top Sony TV executives to boost ...</td>\n",
       "      <td>LOS ANGELES (Reuters) - Apple Inc  has hired t...</td>\n",
       "      <td>technologyNews</td>\n",
       "    </tr>\n",
       "    <tr>\n",
       "      <th>12</th>\n",
       "      <td>Apparel retailer Buckle says some credit card ...</td>\n",
       "      <td>(Reuters) - Apparel retailer Buckle Inc said o...</td>\n",
       "      <td>technologyNews</td>\n",
       "    </tr>\n",
       "    <tr>\n",
       "      <th>13</th>\n",
       "      <td>Alleged Canadian hacker may not fight U.S. ext...</td>\n",
       "      <td>TORONTO (Reuters) - The Canadian accused of he...</td>\n",
       "      <td>technologyNews</td>\n",
       "    </tr>\n",
       "    <tr>\n",
       "      <th>14</th>\n",
       "      <td>U.S. tech firm in blockchain tie-up with insur...</td>\n",
       "      <td>NEW YORK (Reuters) - U.S. technology company T...</td>\n",
       "      <td>technologyNews</td>\n",
       "    </tr>\n",
       "    <tr>\n",
       "      <th>15</th>\n",
       "      <td>Canada cyber-spy agency expects hacktivist att...</td>\n",
       "      <td>OTTAWA/TORONTO (Reuters) - Canada's electronic...</td>\n",
       "      <td>technologyNews</td>\n",
       "    </tr>\n",
       "    <tr>\n",
       "      <th>16</th>\n",
       "      <td>Angry Birds maker Rovio says IPO possible in f...</td>\n",
       "      <td>HELSINKI (Reuters) - Finnish mobile game and a...</td>\n",
       "      <td>technologyNews</td>\n",
       "    </tr>\n",
       "    <tr>\n",
       "      <th>17</th>\n",
       "      <td>U.S. states could not set self-driving car rul...</td>\n",
       "      <td>WASHINGTON (Reuters) - California and other st...</td>\n",
       "      <td>technologyNews</td>\n",
       "    </tr>\n",
       "    <tr>\n",
       "      <th>18</th>\n",
       "      <td>Not yet Amazon Prime time: Australia retail se...</td>\n",
       "      <td>SYDNEY/SAN FRANCISCO (Reuters) - Since Amazon....</td>\n",
       "      <td>technologyNews</td>\n",
       "    </tr>\n",
       "    <tr>\n",
       "      <th>19</th>\n",
       "      <td>Orange says SFR lawsuit over fiber optics netw...</td>\n",
       "      <td>PARIS (Reuters) - French telecom operator Oran...</td>\n",
       "      <td>technologyNews</td>\n",
       "    </tr>\n",
       "    <tr>\n",
       "      <th>20</th>\n",
       "      <td>Top seed Konta wins Nottingham semi-final</td>\n",
       "      <td>(Reuters) - Top seed Johanna Konta reached the...</td>\n",
       "      <td>sportsNews</td>\n",
       "    </tr>\n",
       "    <tr>\n",
       "      <th>21</th>\n",
       "      <td>McDonald's ends Olympics sponsorship deal early</td>\n",
       "      <td>NEW YORK/BERLIN (Reuters) - McDonald's Corp  e...</td>\n",
       "      <td>sportsNews</td>\n",
       "    </tr>\n",
       "    <tr>\n",
       "      <th>22</th>\n",
       "      <td>Murray hoping to make the most of last few com...</td>\n",
       "      <td>(Reuters) - Andy Murray believes that he can c...</td>\n",
       "      <td>sportsNews</td>\n",
       "    </tr>\n",
       "    <tr>\n",
       "      <th>23</th>\n",
       "      <td>Crowded U.S. Open leaderboard but world top th...</td>\n",
       "      <td>ERIN, Wisconsin (Reuters) - Paul Casey rode a ...</td>\n",
       "      <td>sportsNews</td>\n",
       "    </tr>\n",
       "    <tr>\n",
       "      <th>24</th>\n",
       "      <td>McIlroy hits back after accused of being 'bore...</td>\n",
       "      <td>ERIN, Wisconsin (Reuters) - Rory McIlroy and S...</td>\n",
       "      <td>sportsNews</td>\n",
       "    </tr>\n",
       "    <tr>\n",
       "      <th>25</th>\n",
       "      <td>New Zealand try new black magic to end U.S. Am...</td>\n",
       "      <td>HAMILTON, Bermuda (Reuters) - Emirates Team Ne...</td>\n",
       "      <td>sportsNews</td>\n",
       "    </tr>\n",
       "    <tr>\n",
       "      <th>26</th>\n",
       "      <td>Rodman returns from 'really good' North Korea ...</td>\n",
       "      <td>BEIJING (Reuters) - Former National Basketball...</td>\n",
       "      <td>sportsNews</td>\n",
       "    </tr>\n",
       "    <tr>\n",
       "      <th>27</th>\n",
       "      <td>F1 boss Carey to wave the start flag at Le Mans</td>\n",
       "      <td>(Reuters) - Formula One chairman and chief exe...</td>\n",
       "      <td>sportsNews</td>\n",
       "    </tr>\n",
       "    <tr>\n",
       "      <th>28</th>\n",
       "      <td>Older and wiser, 20-year-old Vekic on the rise...</td>\n",
       "      <td>NOTTINGHAM (Reuters) - These days Donna Vekic ...</td>\n",
       "      <td>sportsNews</td>\n",
       "    </tr>\n",
       "    <tr>\n",
       "      <th>29</th>\n",
       "      <td>Golf: Canadian Henderson has two-shot LPGA hal...</td>\n",
       "      <td>(Reuters) - Brooke Henderson bogeyed the final...</td>\n",
       "      <td>sportsNews</td>\n",
       "    </tr>\n",
       "  </tbody>\n",
       "</table>\n",
       "</div>"
      ],
      "text/plain": [
       "                                                title  \\\n",
       "0   Amazon to buy Whole Foods for $13.7 billion, w...   \n",
       "1   Tech to see bump in growth weighting in Russel...   \n",
       "2   Weak inflation erodes conviction at Fed on rat...   \n",
       "3   Yellen says Fed to give banks more details on ...   \n",
       "4   Hedge fund called 'greedy bastards' by Whole F...   \n",
       "5   Takata would stop making air-bag inflators und...   \n",
       "6   GM to open manufacturing facility in Arlington...   \n",
       "7   China's CALC joins line-up for Boeing 737 MAX ...   \n",
       "8     McDonald's ends Olympics sponsorship deal early   \n",
       "9   Iran sees gas deal with Total within weeks: mi...   \n",
       "10  Amazon to buy Whole Foods for $13.7 billion, w...   \n",
       "11  Apple poaches top Sony TV executives to boost ...   \n",
       "12  Apparel retailer Buckle says some credit card ...   \n",
       "13  Alleged Canadian hacker may not fight U.S. ext...   \n",
       "14  U.S. tech firm in blockchain tie-up with insur...   \n",
       "15  Canada cyber-spy agency expects hacktivist att...   \n",
       "16  Angry Birds maker Rovio says IPO possible in f...   \n",
       "17  U.S. states could not set self-driving car rul...   \n",
       "18  Not yet Amazon Prime time: Australia retail se...   \n",
       "19  Orange says SFR lawsuit over fiber optics netw...   \n",
       "20          Top seed Konta wins Nottingham semi-final   \n",
       "21    McDonald's ends Olympics sponsorship deal early   \n",
       "22  Murray hoping to make the most of last few com...   \n",
       "23  Crowded U.S. Open leaderboard but world top th...   \n",
       "24  McIlroy hits back after accused of being 'bore...   \n",
       "25  New Zealand try new black magic to end U.S. Am...   \n",
       "26  Rodman returns from 'really good' North Korea ...   \n",
       "27    F1 boss Carey to wave the start flag at Le Mans   \n",
       "28  Older and wiser, 20-year-old Vekic on the rise...   \n",
       "29  Golf: Canadian Henderson has two-shot LPGA hal...   \n",
       "\n",
       "                                          description        category  \n",
       "0   (Reuters) - Amazon.com Inc said on Friday it w...    businessNews  \n",
       "1   NEW YORK (Reuters) - The largecap technology s...    businessNews  \n",
       "2   DALLAS/WASHINGTON (Reuters) - When the Federal...    businessNews  \n",
       "3   NEW YORK and WASHINGTON (Reuters) - The Federa...    businessNews  \n",
       "4   (Editor's Note: please be advised that headlin...    businessNews  \n",
       "5   TOKYO (Reuters) - Japan's Takata Corp , facing...    businessNews  \n",
       "6   (Reuters) - U.S. automaker General Motors Co  ...    businessNews  \n",
       "7   PARIS (Reuters) - China Aircraft Leasing Group...    businessNews  \n",
       "8   NEW YORK/BERLIN (Reuters) - McDonald's Corp  e...    businessNews  \n",
       "9   DUBAI (Reuters) - Iran expects to sign a long-...    businessNews  \n",
       "10  (Reuters) - Amazon.com Inc said on Friday it w...  technologyNews  \n",
       "11  LOS ANGELES (Reuters) - Apple Inc  has hired t...  technologyNews  \n",
       "12  (Reuters) - Apparel retailer Buckle Inc said o...  technologyNews  \n",
       "13  TORONTO (Reuters) - The Canadian accused of he...  technologyNews  \n",
       "14  NEW YORK (Reuters) - U.S. technology company T...  technologyNews  \n",
       "15  OTTAWA/TORONTO (Reuters) - Canada's electronic...  technologyNews  \n",
       "16  HELSINKI (Reuters) - Finnish mobile game and a...  technologyNews  \n",
       "17  WASHINGTON (Reuters) - California and other st...  technologyNews  \n",
       "18  SYDNEY/SAN FRANCISCO (Reuters) - Since Amazon....  technologyNews  \n",
       "19  PARIS (Reuters) - French telecom operator Oran...  technologyNews  \n",
       "20  (Reuters) - Top seed Johanna Konta reached the...      sportsNews  \n",
       "21  NEW YORK/BERLIN (Reuters) - McDonald's Corp  e...      sportsNews  \n",
       "22  (Reuters) - Andy Murray believes that he can c...      sportsNews  \n",
       "23  ERIN, Wisconsin (Reuters) - Paul Casey rode a ...      sportsNews  \n",
       "24  ERIN, Wisconsin (Reuters) - Rory McIlroy and S...      sportsNews  \n",
       "25  HAMILTON, Bermuda (Reuters) - Emirates Team Ne...      sportsNews  \n",
       "26  BEIJING (Reuters) - Former National Basketball...      sportsNews  \n",
       "27  (Reuters) - Formula One chairman and chief exe...      sportsNews  \n",
       "28  NOTTINGHAM (Reuters) - These days Donna Vekic ...      sportsNews  \n",
       "29  (Reuters) - Brooke Henderson bogeyed the final...      sportsNews  "
      ]
     },
     "execution_count": 31,
     "metadata": {},
     "output_type": "execute_result"
    }
   ],
   "source": [
    "title_list = []\n",
    "description_list = []\n",
    "category_list = []\n",
    "\n",
    "for xml_doc in documents:\n",
    "    articles = xml_doc.xpath(\"//item\")\n",
    "    for article in articles:\n",
    "        title_list.append(article[0].text)\n",
    "        description_list.append(article[1].text)\n",
    "        category_list.append(article[4].text)\n",
    "        \n",
    "\n",
    "news_data = pd.DataFrame(title_list, columns=[\"title\"])\n",
    "news_data[\"description\"] = description_list\n",
    "news_data[\"category\"] = category_list\n",
    "print len(news_data)\n",
    "news_data"
   ]
  },
  {
   "cell_type": "code",
   "execution_count": 61,
   "metadata": {
    "collapsed": false,
    "deletable": true,
    "editable": true,
    "scrolled": true
   },
   "outputs": [
    {
     "data": {
      "text/plain": [
       "0     (Reuters) - Amazon.com Inc said on Friday it w...\n",
       "1     NEW YORK (Reuters) - The largecap technology s...\n",
       "2     DALLAS/WASHINGTON (Reuters) - When the Federal...\n",
       "3     NEW YORK and WASHINGTON (Reuters) - The Federa...\n",
       "4     (Editor's Note: please be advised that headlin...\n",
       "5     TOKYO (Reuters) - Japan's Takata Corp , facing...\n",
       "6     (Reuters) - U.S. automaker General Motors Co  ...\n",
       "7     PARIS (Reuters) - China Aircraft Leasing Group...\n",
       "8     NEW YORK/BERLIN (Reuters) - McDonald's Corp  e...\n",
       "9     DUBAI (Reuters) - Iran expects to sign a long-...\n",
       "10    (Reuters) - Amazon.com Inc said on Friday it w...\n",
       "11    LOS ANGELES (Reuters) - Apple Inc  has hired t...\n",
       "12    (Reuters) - Apparel retailer Buckle Inc said o...\n",
       "13    TORONTO (Reuters) - The Canadian accused of he...\n",
       "14    NEW YORK (Reuters) - U.S. technology company T...\n",
       "15    OTTAWA/TORONTO (Reuters) - Canada's electronic...\n",
       "16    HELSINKI (Reuters) - Finnish mobile game and a...\n",
       "17    WASHINGTON (Reuters) - California and other st...\n",
       "18    SYDNEY/SAN FRANCISCO (Reuters) - Since Amazon....\n",
       "19    PARIS (Reuters) - French telecom operator Oran...\n",
       "20    (Reuters) - Top seed Johanna Konta reached the...\n",
       "21    NEW YORK/BERLIN (Reuters) - McDonald's Corp  e...\n",
       "22    (Reuters) - Andy Murray believes that he can c...\n",
       "23    ERIN, Wisconsin (Reuters) - Paul Casey rode a ...\n",
       "24    ERIN, Wisconsin (Reuters) - Rory McIlroy and S...\n",
       "25    HAMILTON, Bermuda (Reuters) - Emirates Team Ne...\n",
       "26    BEIJING (Reuters) - Former National Basketball...\n",
       "27    (Reuters) - Formula One chairman and chief exe...\n",
       "28    NOTTINGHAM (Reuters) - These days Donna Vekic ...\n",
       "29    (Reuters) - Brooke Henderson bogeyed the final...\n",
       "Name: description, dtype: object"
      ]
     },
     "execution_count": 61,
     "metadata": {},
     "output_type": "execute_result"
    }
   ],
   "source": [
    "news_data[\"description\"]"
   ]
  },
  {
   "cell_type": "code",
   "execution_count": 62,
   "metadata": {
    "collapsed": false,
    "deletable": true,
    "editable": true
   },
   "outputs": [
    {
     "data": {
      "text/plain": [
       "'(Reuters) - Amazon.com Inc said on Friday it would buy Whole Foods Market Inc for $13.7 billion, in an embrace of brick-and-mortar stores that could turn the high-end grocer into a mass-market merchant and upend the already struggling U.S. retail industry.<div class=\"feedflare\">\\n<a href=\"http://feeds.reuters.com/~ff/reuters/businessNews?a=NjVxCh4awZk:nuhPXF0izsk:yIl2AUoC8zA\"><img src=\"http://feeds.feedburner.com/~ff/reuters/businessNews?d=yIl2AUoC8zA\" border=\"0\"></img></a> <a href=\"http://feeds.reuters.com/~ff/reuters/businessNews?a=NjVxCh4awZk:nuhPXF0izsk:F7zBnMyn0Lo\"><img src=\"http://feeds.feedburner.com/~ff/reuters/businessNews?i=NjVxCh4awZk:nuhPXF0izsk:F7zBnMyn0Lo\" border=\"0\"></img></a> <a href=\"http://feeds.reuters.com/~ff/reuters/businessNews?a=NjVxCh4awZk:nuhPXF0izsk:V_sGLiPBpWU\"><img src=\"http://feeds.feedburner.com/~ff/reuters/businessNews?i=NjVxCh4awZk:nuhPXF0izsk:V_sGLiPBpWU\" border=\"0\"></img></a>\\n</div><img src=\"http://feeds.feedburner.com/~r/reuters/businessNews/~4/NjVxCh4awZk\" height=\"1\" width=\"1\" alt=\"\"/>'"
      ]
     },
     "execution_count": 62,
     "metadata": {},
     "output_type": "execute_result"
    }
   ],
   "source": [
    "news_data[\"description\"][0]"
   ]
  },
  {
   "cell_type": "code",
   "execution_count": 63,
   "metadata": {
    "collapsed": false,
    "deletable": true,
    "editable": true
   },
   "outputs": [
    {
     "data": {
      "text/html": [
       "(Reuters) - Amazon.com Inc said on Friday it would buy Whole Foods Market Inc for $13.7 billion, in an embrace of brick-and-mortar stores that could turn the high-end grocer into a mass-market merchant and upend the already struggling U.S. retail industry.<div class=\"feedflare\">\\n<a href=\"http://feeds.reuters.com/~ff/reuters/businessNews?a=NjVxCh4awZk:nuhPXF0izsk:yIl2AUoC8zA\"><img src=\"http://feeds.feedburner.com/~ff/reuters/businessNews?d=yIl2AUoC8zA\" border=\"0\"></img></a> <a href=\"http://feeds.reuters.com/~ff/reuters/businessNews?a=NjVxCh4awZk:nuhPXF0izsk:F7zBnMyn0Lo\"><img src=\"http://feeds.feedburner.com/~ff/reuters/businessNews?i=NjVxCh4awZk:nuhPXF0izsk:F7zBnMyn0Lo\" border=\"0\"></img></a> <a href=\"http://feeds.reuters.com/~ff/reuters/businessNews?a=NjVxCh4awZk:nuhPXF0izsk:V_sGLiPBpWU\"><img src=\"http://feeds.feedburner.com/~ff/reuters/businessNews?i=NjVxCh4awZk:nuhPXF0izsk:V_sGLiPBpWU\" border=\"0\"></img></a>\\n</div><img src=\"http://feeds.feedburner.com/~r/reuters/businessNews/~4/NjVxCh4awZk\" height=\"1\" width=\"1\" alt=\"\"/>"
      ],
      "text/plain": [
       "<IPython.core.display.HTML object>"
      ]
     },
     "metadata": {},
     "output_type": "display_data"
    }
   ],
   "source": [
    "%%HTML\n",
    "(Reuters) - Amazon.com Inc said on Friday it would buy Whole Foods Market Inc for $13.7 billion, in an embrace of brick-and-mortar stores that could turn the high-end grocer into a mass-market merchant and upend the already struggling U.S. retail industry.<div class=\"feedflare\">\\n<a href=\"http://feeds.reuters.com/~ff/reuters/businessNews?a=NjVxCh4awZk:nuhPXF0izsk:yIl2AUoC8zA\"><img src=\"http://feeds.feedburner.com/~ff/reuters/businessNews?d=yIl2AUoC8zA\" border=\"0\"></img></a> <a href=\"http://feeds.reuters.com/~ff/reuters/businessNews?a=NjVxCh4awZk:nuhPXF0izsk:F7zBnMyn0Lo\"><img src=\"http://feeds.feedburner.com/~ff/reuters/businessNews?i=NjVxCh4awZk:nuhPXF0izsk:F7zBnMyn0Lo\" border=\"0\"></img></a> <a href=\"http://feeds.reuters.com/~ff/reuters/businessNews?a=NjVxCh4awZk:nuhPXF0izsk:V_sGLiPBpWU\"><img src=\"http://feeds.feedburner.com/~ff/reuters/businessNews?i=NjVxCh4awZk:nuhPXF0izsk:V_sGLiPBpWU\" border=\"0\"></img></a>\\n</div><img src=\"http://feeds.feedburner.com/~r/reuters/businessNews/~4/NjVxCh4awZk\" height=\"1\" width=\"1\" alt=\"\"/>"
   ]
  },
  {
   "cell_type": "code",
   "execution_count": 64,
   "metadata": {
    "collapsed": false,
    "deletable": true,
    "editable": true,
    "scrolled": true
   },
   "outputs": [
    {
     "data": {
      "text/html": [
       "<div>\n",
       "<table border=\"1\" class=\"dataframe\">\n",
       "  <thead>\n",
       "    <tr style=\"text-align: right;\">\n",
       "      <th></th>\n",
       "      <th>title</th>\n",
       "      <th>description</th>\n",
       "      <th>category</th>\n",
       "      <th>short_description</th>\n",
       "    </tr>\n",
       "  </thead>\n",
       "  <tbody>\n",
       "    <tr>\n",
       "      <th>0</th>\n",
       "      <td>Amazon to buy Whole Foods for $13.7 billion, w...</td>\n",
       "      <td>(Reuters) - Amazon.com Inc said on Friday it w...</td>\n",
       "      <td>businessNews</td>\n",
       "      <td>Amazon.com Inc said on Friday it would buy Who...</td>\n",
       "    </tr>\n",
       "    <tr>\n",
       "      <th>1</th>\n",
       "      <td>Tech to see bump in growth weighting in Russel...</td>\n",
       "      <td>NEW YORK (Reuters) - The largecap technology s...</td>\n",
       "      <td>businessNews</td>\n",
       "      <td>The largecap technology sector is expected to ...</td>\n",
       "    </tr>\n",
       "    <tr>\n",
       "      <th>2</th>\n",
       "      <td>Weak inflation erodes conviction at Fed on rat...</td>\n",
       "      <td>DALLAS/WASHINGTON (Reuters) - When the Federal...</td>\n",
       "      <td>businessNews</td>\n",
       "      <td>When the Federal Reserve raised rates earlier ...</td>\n",
       "    </tr>\n",
       "    <tr>\n",
       "      <th>3</th>\n",
       "      <td>Yellen says Fed to give banks more details on ...</td>\n",
       "      <td>NEW YORK and WASHINGTON (Reuters) - The Federa...</td>\n",
       "      <td>businessNews</td>\n",
       "      <td>The Federal Reserve will give banks more detai...</td>\n",
       "    </tr>\n",
       "    <tr>\n",
       "      <th>4</th>\n",
       "      <td>Hedge fund called 'greedy bastards' by Whole F...</td>\n",
       "      <td>(Editor's Note: please be advised that headlin...</td>\n",
       "      <td>businessNews</td>\n",
       "      <td>ditor's Note: please be advised that headline ...</td>\n",
       "    </tr>\n",
       "    <tr>\n",
       "      <th>5</th>\n",
       "      <td>Takata would stop making air-bag inflators und...</td>\n",
       "      <td>TOKYO (Reuters) - Japan's Takata Corp , facing...</td>\n",
       "      <td>businessNews</td>\n",
       "      <td>Japan's Takata Corp , facing bankruptcy over t...</td>\n",
       "    </tr>\n",
       "    <tr>\n",
       "      <th>6</th>\n",
       "      <td>GM to open manufacturing facility in Arlington...</td>\n",
       "      <td>(Reuters) - U.S. automaker General Motors Co  ...</td>\n",
       "      <td>businessNews</td>\n",
       "      <td>U.S. automaker General Motors Co  said on Frid...</td>\n",
       "    </tr>\n",
       "    <tr>\n",
       "      <th>7</th>\n",
       "      <td>China's CALC joins line-up for Boeing 737 MAX ...</td>\n",
       "      <td>PARIS (Reuters) - China Aircraft Leasing Group...</td>\n",
       "      <td>businessNews</td>\n",
       "      <td>China Aircraft Leasing Group Holdings (CALC)  ...</td>\n",
       "    </tr>\n",
       "    <tr>\n",
       "      <th>8</th>\n",
       "      <td>McDonald's ends Olympics sponsorship deal early</td>\n",
       "      <td>NEW YORK/BERLIN (Reuters) - McDonald's Corp  e...</td>\n",
       "      <td>businessNews</td>\n",
       "      <td>McDonald's Corp  ended its 41-year-old sponsor...</td>\n",
       "    </tr>\n",
       "    <tr>\n",
       "      <th>9</th>\n",
       "      <td>Iran sees gas deal with Total within weeks: mi...</td>\n",
       "      <td>DUBAI (Reuters) - Iran expects to sign a long-...</td>\n",
       "      <td>businessNews</td>\n",
       "      <td>Iran expects to sign a long-delayed gas deal w...</td>\n",
       "    </tr>\n",
       "    <tr>\n",
       "      <th>10</th>\n",
       "      <td>Amazon to buy Whole Foods for $13.7 billion, w...</td>\n",
       "      <td>(Reuters) - Amazon.com Inc said on Friday it w...</td>\n",
       "      <td>technologyNews</td>\n",
       "      <td>Amazon.com Inc said on Friday it would buy Who...</td>\n",
       "    </tr>\n",
       "    <tr>\n",
       "      <th>11</th>\n",
       "      <td>Apple poaches top Sony TV executives to boost ...</td>\n",
       "      <td>LOS ANGELES (Reuters) - Apple Inc  has hired t...</td>\n",
       "      <td>technologyNews</td>\n",
       "      <td>Apple Inc  has hired two long-time Sony Pictur...</td>\n",
       "    </tr>\n",
       "    <tr>\n",
       "      <th>12</th>\n",
       "      <td>Apparel retailer Buckle says some credit card ...</td>\n",
       "      <td>(Reuters) - Apparel retailer Buckle Inc said o...</td>\n",
       "      <td>technologyNews</td>\n",
       "      <td>Apparel retailer Buckle Inc said on Friday tha...</td>\n",
       "    </tr>\n",
       "    <tr>\n",
       "      <th>13</th>\n",
       "      <td>Alleged Canadian hacker may not fight U.S. ext...</td>\n",
       "      <td>TORONTO (Reuters) - The Canadian accused of he...</td>\n",
       "      <td>technologyNews</td>\n",
       "      <td>The Canadian accused of helping Russian intell...</td>\n",
       "    </tr>\n",
       "    <tr>\n",
       "      <th>14</th>\n",
       "      <td>U.S. tech firm in blockchain tie-up with insur...</td>\n",
       "      <td>NEW YORK (Reuters) - U.S. technology company T...</td>\n",
       "      <td>technologyNews</td>\n",
       "      <td>U.S. technology company The Bitfury Group said...</td>\n",
       "    </tr>\n",
       "    <tr>\n",
       "      <th>15</th>\n",
       "      <td>Canada cyber-spy agency expects hacktivist att...</td>\n",
       "      <td>OTTAWA/TORONTO (Reuters) - Canada's electronic...</td>\n",
       "      <td>technologyNews</td>\n",
       "      <td>Canada's electronic spy agency said on Friday ...</td>\n",
       "    </tr>\n",
       "    <tr>\n",
       "      <th>16</th>\n",
       "      <td>Angry Birds maker Rovio says IPO possible in f...</td>\n",
       "      <td>HELSINKI (Reuters) - Finnish mobile game and a...</td>\n",
       "      <td>technologyNews</td>\n",
       "      <td>Finnish mobile game and animation studio Rovio...</td>\n",
       "    </tr>\n",
       "    <tr>\n",
       "      <th>17</th>\n",
       "      <td>U.S. states could not set self-driving car rul...</td>\n",
       "      <td>WASHINGTON (Reuters) - California and other st...</td>\n",
       "      <td>technologyNews</td>\n",
       "      <td>California and other states would be barred fr...</td>\n",
       "    </tr>\n",
       "    <tr>\n",
       "      <th>18</th>\n",
       "      <td>Not yet Amazon Prime time: Australia retail se...</td>\n",
       "      <td>SYDNEY/SAN FRANCISCO (Reuters) - Since Amazon....</td>\n",
       "      <td>technologyNews</td>\n",
       "      <td>Since Amazon.com Inc  said in late April it wo...</td>\n",
       "    </tr>\n",
       "    <tr>\n",
       "      <th>19</th>\n",
       "      <td>Orange says SFR lawsuit over fiber optics netw...</td>\n",
       "      <td>PARIS (Reuters) - French telecom operator Oran...</td>\n",
       "      <td>technologyNews</td>\n",
       "      <td>French telecom operator Orange said on Friday ...</td>\n",
       "    </tr>\n",
       "    <tr>\n",
       "      <th>20</th>\n",
       "      <td>Top seed Konta wins Nottingham semi-final</td>\n",
       "      <td>(Reuters) - Top seed Johanna Konta reached the...</td>\n",
       "      <td>sportsNews</td>\n",
       "      <td>Top seed Johanna Konta reached the final of th...</td>\n",
       "    </tr>\n",
       "    <tr>\n",
       "      <th>21</th>\n",
       "      <td>McDonald's ends Olympics sponsorship deal early</td>\n",
       "      <td>NEW YORK/BERLIN (Reuters) - McDonald's Corp  e...</td>\n",
       "      <td>sportsNews</td>\n",
       "      <td>McDonald's Corp  ended its 41-year-old sponsor...</td>\n",
       "    </tr>\n",
       "    <tr>\n",
       "      <th>22</th>\n",
       "      <td>Murray hoping to make the most of last few com...</td>\n",
       "      <td>(Reuters) - Andy Murray believes that he can c...</td>\n",
       "      <td>sportsNews</td>\n",
       "      <td>Andy Murray believes that he can compete at th...</td>\n",
       "    </tr>\n",
       "    <tr>\n",
       "      <th>23</th>\n",
       "      <td>Crowded U.S. Open leaderboard but world top th...</td>\n",
       "      <td>ERIN, Wisconsin (Reuters) - Paul Casey rode a ...</td>\n",
       "      <td>sportsNews</td>\n",
       "      <td>Paul Casey rode a rollercoaster to a four-way ...</td>\n",
       "    </tr>\n",
       "    <tr>\n",
       "      <th>24</th>\n",
       "      <td>McIlroy hits back after accused of being 'bore...</td>\n",
       "      <td>ERIN, Wisconsin (Reuters) - Rory McIlroy and S...</td>\n",
       "      <td>sportsNews</td>\n",
       "      <td>Rory McIlroy and Steve Elkington engaged in a ...</td>\n",
       "    </tr>\n",
       "    <tr>\n",
       "      <th>25</th>\n",
       "      <td>New Zealand try new black magic to end U.S. Am...</td>\n",
       "      <td>HAMILTON, Bermuda (Reuters) - Emirates Team Ne...</td>\n",
       "      <td>sportsNews</td>\n",
       "      <td>Emirates Team New Zealand will be hoping to mi...</td>\n",
       "    </tr>\n",
       "    <tr>\n",
       "      <th>26</th>\n",
       "      <td>Rodman returns from 'really good' North Korea ...</td>\n",
       "      <td>BEIJING (Reuters) - Former National Basketball...</td>\n",
       "      <td>sportsNews</td>\n",
       "      <td>Former National Basketball Association star De...</td>\n",
       "    </tr>\n",
       "    <tr>\n",
       "      <th>27</th>\n",
       "      <td>F1 boss Carey to wave the start flag at Le Mans</td>\n",
       "      <td>(Reuters) - Formula One chairman and chief exe...</td>\n",
       "      <td>sportsNews</td>\n",
       "      <td>Formula One chairman and chief executive Chase...</td>\n",
       "    </tr>\n",
       "    <tr>\n",
       "      <th>28</th>\n",
       "      <td>Older and wiser, 20-year-old Vekic on the rise...</td>\n",
       "      <td>NOTTINGHAM (Reuters) - These days Donna Vekic ...</td>\n",
       "      <td>sportsNews</td>\n",
       "      <td>These days Donna Vekic is best known as the gi...</td>\n",
       "    </tr>\n",
       "    <tr>\n",
       "      <th>29</th>\n",
       "      <td>Golf: Canadian Henderson has two-shot LPGA hal...</td>\n",
       "      <td>(Reuters) - Brooke Henderson bogeyed the final...</td>\n",
       "      <td>sportsNews</td>\n",
       "      <td>Brooke Henderson bogeyed the final two holes b...</td>\n",
       "    </tr>\n",
       "  </tbody>\n",
       "</table>\n",
       "</div>"
      ],
      "text/plain": [
       "                                                title  \\\n",
       "0   Amazon to buy Whole Foods for $13.7 billion, w...   \n",
       "1   Tech to see bump in growth weighting in Russel...   \n",
       "2   Weak inflation erodes conviction at Fed on rat...   \n",
       "3   Yellen says Fed to give banks more details on ...   \n",
       "4   Hedge fund called 'greedy bastards' by Whole F...   \n",
       "5   Takata would stop making air-bag inflators und...   \n",
       "6   GM to open manufacturing facility in Arlington...   \n",
       "7   China's CALC joins line-up for Boeing 737 MAX ...   \n",
       "8     McDonald's ends Olympics sponsorship deal early   \n",
       "9   Iran sees gas deal with Total within weeks: mi...   \n",
       "10  Amazon to buy Whole Foods for $13.7 billion, w...   \n",
       "11  Apple poaches top Sony TV executives to boost ...   \n",
       "12  Apparel retailer Buckle says some credit card ...   \n",
       "13  Alleged Canadian hacker may not fight U.S. ext...   \n",
       "14  U.S. tech firm in blockchain tie-up with insur...   \n",
       "15  Canada cyber-spy agency expects hacktivist att...   \n",
       "16  Angry Birds maker Rovio says IPO possible in f...   \n",
       "17  U.S. states could not set self-driving car rul...   \n",
       "18  Not yet Amazon Prime time: Australia retail se...   \n",
       "19  Orange says SFR lawsuit over fiber optics netw...   \n",
       "20          Top seed Konta wins Nottingham semi-final   \n",
       "21    McDonald's ends Olympics sponsorship deal early   \n",
       "22  Murray hoping to make the most of last few com...   \n",
       "23  Crowded U.S. Open leaderboard but world top th...   \n",
       "24  McIlroy hits back after accused of being 'bore...   \n",
       "25  New Zealand try new black magic to end U.S. Am...   \n",
       "26  Rodman returns from 'really good' North Korea ...   \n",
       "27    F1 boss Carey to wave the start flag at Le Mans   \n",
       "28  Older and wiser, 20-year-old Vekic on the rise...   \n",
       "29  Golf: Canadian Henderson has two-shot LPGA hal...   \n",
       "\n",
       "                                          description        category  \\\n",
       "0   (Reuters) - Amazon.com Inc said on Friday it w...    businessNews   \n",
       "1   NEW YORK (Reuters) - The largecap technology s...    businessNews   \n",
       "2   DALLAS/WASHINGTON (Reuters) - When the Federal...    businessNews   \n",
       "3   NEW YORK and WASHINGTON (Reuters) - The Federa...    businessNews   \n",
       "4   (Editor's Note: please be advised that headlin...    businessNews   \n",
       "5   TOKYO (Reuters) - Japan's Takata Corp , facing...    businessNews   \n",
       "6   (Reuters) - U.S. automaker General Motors Co  ...    businessNews   \n",
       "7   PARIS (Reuters) - China Aircraft Leasing Group...    businessNews   \n",
       "8   NEW YORK/BERLIN (Reuters) - McDonald's Corp  e...    businessNews   \n",
       "9   DUBAI (Reuters) - Iran expects to sign a long-...    businessNews   \n",
       "10  (Reuters) - Amazon.com Inc said on Friday it w...  technologyNews   \n",
       "11  LOS ANGELES (Reuters) - Apple Inc  has hired t...  technologyNews   \n",
       "12  (Reuters) - Apparel retailer Buckle Inc said o...  technologyNews   \n",
       "13  TORONTO (Reuters) - The Canadian accused of he...  technologyNews   \n",
       "14  NEW YORK (Reuters) - U.S. technology company T...  technologyNews   \n",
       "15  OTTAWA/TORONTO (Reuters) - Canada's electronic...  technologyNews   \n",
       "16  HELSINKI (Reuters) - Finnish mobile game and a...  technologyNews   \n",
       "17  WASHINGTON (Reuters) - California and other st...  technologyNews   \n",
       "18  SYDNEY/SAN FRANCISCO (Reuters) - Since Amazon....  technologyNews   \n",
       "19  PARIS (Reuters) - French telecom operator Oran...  technologyNews   \n",
       "20  (Reuters) - Top seed Johanna Konta reached the...      sportsNews   \n",
       "21  NEW YORK/BERLIN (Reuters) - McDonald's Corp  e...      sportsNews   \n",
       "22  (Reuters) - Andy Murray believes that he can c...      sportsNews   \n",
       "23  ERIN, Wisconsin (Reuters) - Paul Casey rode a ...      sportsNews   \n",
       "24  ERIN, Wisconsin (Reuters) - Rory McIlroy and S...      sportsNews   \n",
       "25  HAMILTON, Bermuda (Reuters) - Emirates Team Ne...      sportsNews   \n",
       "26  BEIJING (Reuters) - Former National Basketball...      sportsNews   \n",
       "27  (Reuters) - Formula One chairman and chief exe...      sportsNews   \n",
       "28  NOTTINGHAM (Reuters) - These days Donna Vekic ...      sportsNews   \n",
       "29  (Reuters) - Brooke Henderson bogeyed the final...      sportsNews   \n",
       "\n",
       "                                    short_description  \n",
       "0   Amazon.com Inc said on Friday it would buy Who...  \n",
       "1   The largecap technology sector is expected to ...  \n",
       "2   When the Federal Reserve raised rates earlier ...  \n",
       "3   The Federal Reserve will give banks more detai...  \n",
       "4   ditor's Note: please be advised that headline ...  \n",
       "5   Japan's Takata Corp , facing bankruptcy over t...  \n",
       "6   U.S. automaker General Motors Co  said on Frid...  \n",
       "7   China Aircraft Leasing Group Holdings (CALC)  ...  \n",
       "8   McDonald's Corp  ended its 41-year-old sponsor...  \n",
       "9   Iran expects to sign a long-delayed gas deal w...  \n",
       "10  Amazon.com Inc said on Friday it would buy Who...  \n",
       "11  Apple Inc  has hired two long-time Sony Pictur...  \n",
       "12  Apparel retailer Buckle Inc said on Friday tha...  \n",
       "13  The Canadian accused of helping Russian intell...  \n",
       "14  U.S. technology company The Bitfury Group said...  \n",
       "15  Canada's electronic spy agency said on Friday ...  \n",
       "16  Finnish mobile game and animation studio Rovio...  \n",
       "17  California and other states would be barred fr...  \n",
       "18  Since Amazon.com Inc  said in late April it wo...  \n",
       "19  French telecom operator Orange said on Friday ...  \n",
       "20  Top seed Johanna Konta reached the final of th...  \n",
       "21  McDonald's Corp  ended its 41-year-old sponsor...  \n",
       "22  Andy Murray believes that he can compete at th...  \n",
       "23  Paul Casey rode a rollercoaster to a four-way ...  \n",
       "24  Rory McIlroy and Steve Elkington engaged in a ...  \n",
       "25  Emirates Team New Zealand will be hoping to mi...  \n",
       "26  Former National Basketball Association star De...  \n",
       "27  Formula One chairman and chief executive Chase...  \n",
       "28  These days Donna Vekic is best known as the gi...  \n",
       "29  Brooke Henderson bogeyed the final two holes b...  "
      ]
     },
     "execution_count": 64,
     "metadata": {},
     "output_type": "execute_result"
    }
   ],
   "source": [
    "news_data[\"short_description\"] = [item[item.find(\" - \")+3:item.find(\"<\")] for item in news_data[\"description\"]]\n",
    "news_data"
   ]
  },
  {
   "cell_type": "code",
   "execution_count": 65,
   "metadata": {
    "collapsed": false,
    "deletable": true,
    "editable": true
   },
   "outputs": [
    {
     "name": "stdout",
     "output_type": "stream",
     "text": [
      "(30, 554)\n"
     ]
    },
    {
     "data": {
      "text/plain": [
       "array([[1, 0, 0, ..., 0, 0, 0],\n",
       "       [0, 0, 0, ..., 0, 0, 0],\n",
       "       [0, 0, 0, ..., 1, 0, 0],\n",
       "       ..., \n",
       "       [0, 0, 0, ..., 0, 0, 0],\n",
       "       [0, 0, 0, ..., 0, 0, 0],\n",
       "       [0, 0, 0, ..., 0, 0, 0]])"
      ]
     },
     "execution_count": 65,
     "metadata": {},
     "output_type": "execute_result"
    }
   ],
   "source": [
    "corpus = news_data[\"short_description\"]\n",
    "vectorizer = CountVectorizer(min_df=1)\n",
    "X = vectorizer.fit_transform(corpus).toarray()\n",
    "print X.shape\n",
    "X"
   ]
  },
  {
   "cell_type": "code",
   "execution_count": 39,
   "metadata": {
    "collapsed": false
   },
   "outputs": [
    {
     "data": {
      "text/plain": [
       "[u'13',\n",
       " u'1995',\n",
       " u'2014',\n",
       " u'2019',\n",
       " u'24',\n",
       " u'35',\n",
       " u'41',\n",
       " u'60',\n",
       " u'737',\n",
       " u'850',\n",
       " u'85th',\n",
       " u'according',\n",
       " u'accounts',\n",
       " u'accused',\n",
       " u'acquire',\n",
       " u'adding',\n",
       " u'advise',\n",
       " u'advised',\n",
       " u'advisory',\n",
       " u'after',\n",
       " u'against',\n",
       " u'age',\n",
       " u'agency',\n",
       " u'agents',\n",
       " u'ago']"
      ]
     },
     "execution_count": 39,
     "metadata": {},
     "output_type": "execute_result"
    }
   ],
   "source": [
    "vectorizer.get_feature_names()[:25]"
   ]
  },
  {
   "cell_type": "code",
   "execution_count": 40,
   "metadata": {
    "collapsed": false
   },
   "outputs": [
    {
     "data": {
      "text/plain": [
       "{'businessNews': 0, 'sportsNews': 2, 'technologyNews': 1}"
      ]
     },
     "execution_count": 40,
     "metadata": {},
     "output_type": "execute_result"
    }
   ],
   "source": [
    "categories = news_data[\"category\"].unique()\n",
    "category_dict = {value:index for index, value in enumerate(categories)}\n",
    "results = news_data[\"category\"].map(category_dict)\n",
    "category_dict"
   ]
  },
  {
   "cell_type": "code",
   "execution_count": 41,
   "metadata": {
    "collapsed": false
   },
   "outputs": [
    {
     "name": "stdout",
     "output_type": "stream",
     "text": [
      "corpus size: 554\n"
     ]
    }
   ],
   "source": [
    "print \"corpus size: %s\" % len(vectorizer.get_feature_names())"
   ]
  },
  {
   "cell_type": "code",
   "execution_count": 72,
   "metadata": {
    "collapsed": false
   },
   "outputs": [],
   "source": [
    "x_train,x_test, y_train,y_test = train_test_split(X, results, test_size=0.4, random_state=1, )"
   ]
  },
  {
   "cell_type": "code",
   "execution_count": 73,
   "metadata": {
    "collapsed": false
   },
   "outputs": [
    {
     "data": {
      "text/plain": [
       "0.58333333333333337"
      ]
     },
     "execution_count": 73,
     "metadata": {},
     "output_type": "execute_result"
    }
   ],
   "source": [
    "clf = MultinomialNB()\n",
    "clf.fit(x_train, y_train)\n",
    "clf.score(x_test, y_test)"
   ]
  },
  {
   "cell_type": "code",
   "execution_count": 74,
   "metadata": {
    "collapsed": false
   },
   "outputs": [
    {
     "data": {
      "text/plain": [
       "17    1\n",
       "21    2\n",
       "10    1\n",
       "19    1\n",
       "14    1\n",
       "20    2\n",
       "26    2\n",
       "3     0\n",
       "24    2\n",
       "22    2\n",
       "23    2\n",
       "4     0\n",
       "Name: category, dtype: int64"
      ]
     },
     "execution_count": 74,
     "metadata": {},
     "output_type": "execute_result"
    }
   ],
   "source": [
    "y_test"
   ]
  },
  {
   "cell_type": "code",
   "execution_count": 75,
   "metadata": {
    "collapsed": false
   },
   "outputs": [
    {
     "data": {
      "text/plain": [
       "array([1, 0, 0, 1, 0, 2, 1, 0, 2, 2, 2, 1])"
      ]
     },
     "execution_count": 75,
     "metadata": {},
     "output_type": "execute_result"
    }
   ],
   "source": [
    "clf.predict(x_test)"
   ]
  },
  {
   "cell_type": "code",
   "execution_count": 53,
   "metadata": {
    "collapsed": false
   },
   "outputs": [
    {
     "data": {
      "text/plain": [
       "{'businessNews': 0, 'sportsNews': 2, 'technologyNews': 1}"
      ]
     },
     "execution_count": 53,
     "metadata": {},
     "output_type": "execute_result"
    }
   ],
   "source": [
    "category_dict"
   ]
  },
  {
   "cell_type": "code",
   "execution_count": 55,
   "metadata": {
    "collapsed": false
   },
   "outputs": [
    {
     "data": {
      "text/plain": [
       "'businessNews'"
      ]
     },
     "execution_count": 55,
     "metadata": {},
     "output_type": "execute_result"
    }
   ],
   "source": [
    "text = [\"This deal is done\"]\n",
    "vec_text = vectorizer.transform(text).toarray()\n",
    "category_dict.keys()[category_dict.values().index(clf.predict(vec_text)[0])]\n"
   ]
  },
  {
   "cell_type": "code",
   "execution_count": null,
   "metadata": {
    "collapsed": true
   },
   "outputs": [],
   "source": []
  }
 ],
 "metadata": {
  "kernelspec": {
   "display_name": "Python 2",
   "language": "python",
   "name": "python2"
  },
  "language_info": {
   "codemirror_mode": {
    "name": "ipython",
    "version": 2
   },
   "file_extension": ".py",
   "mimetype": "text/x-python",
   "name": "python",
   "nbconvert_exporter": "python",
   "pygments_lexer": "ipython2",
   "version": "2.7.12"
  }
 },
 "nbformat": 4,
 "nbformat_minor": 2
}
